{
 "cells": [
  {
   "cell_type": "code",
   "execution_count": 2,
   "id": "a4b8e663-31bd-4309-a850-c8153de63c09",
   "metadata": {},
   "outputs": [
    {
     "name": "stdout",
     "output_type": "stream",
     "text": [
      "PDF converted to Excel successfully at C:/Users/Kannan T/Downloads/invoice_excel.xlsx\n"
     ]
    }
   ],
   "source": [
    "import pdfplumber\n",
    "import pandas as pd\n",
    "\n",
    "def pdf_to_excel(pdf_path, excel_path):\n",
    "    all_data = []\n",
    "    with pdfplumber.open(pdf_path) as pdf:\n",
    "        for page in pdf.pages:\n",
    "            tables = page.extract_tables()\n",
    "            \n",
    "            for table in tables:\n",
    "                df = pd.DataFrame(table[1:], columns=table[0])\n",
    "                all_data.append(df)\n",
    "\n",
    "    final_df = pd.concat(all_data, ignore_index=True)\n",
    "\n",
    "    final_df.to_excel(excel_path, index=False)\n",
    "\n",
    "    print(f\"PDF converted to Excel successfully at {excel_path}\")\n",
    "\n",
    "pdf_path = ''\n",
    "excel_path = ''\n",
    "pdf_to_excel(pdf_path, excel_path)"
   ]
  },
  {
   "cell_type": "code",
   "execution_count": null,
   "id": "a8f63379-cef2-454f-ad27-414c2e38e392",
   "metadata": {},
   "outputs": [],
   "source": []
  }
 ],
 "metadata": {
  "kernelspec": {
   "display_name": "Python 3 (ipykernel)",
   "language": "python",
   "name": "python3"
  },
  "language_info": {
   "codemirror_mode": {
    "name": "ipython",
    "version": 3
   },
   "file_extension": ".py",
   "mimetype": "text/x-python",
   "name": "python",
   "nbconvert_exporter": "python",
   "pygments_lexer": "ipython3",
   "version": "3.11.7"
  }
 },
 "nbformat": 4,
 "nbformat_minor": 5
}
